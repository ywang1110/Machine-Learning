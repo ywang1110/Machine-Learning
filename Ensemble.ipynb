{
  "nbformat": 4,
  "nbformat_minor": 0,
  "metadata": {
    "colab": {
      "name": "Ensemble.ipynb",
      "provenance": [],
      "authorship_tag": "ABX9TyPvYEkZUoRi8zfJZGGcVFQC",
      "include_colab_link": true
    },
    "kernelspec": {
      "name": "python3",
      "display_name": "Python 3"
    },
    "language_info": {
      "name": "python"
    }
  },
  "cells": [
    {
      "cell_type": "markdown",
      "metadata": {
        "id": "view-in-github",
        "colab_type": "text"
      },
      "source": [
        "<a href=\"https://colab.research.google.com/github/ywang1110/Machine-Learning/blob/main/Ensemble.ipynb\" target=\"_parent\"><img src=\"https://colab.research.google.com/assets/colab-badge.svg\" alt=\"Open In Colab\"/></a>"
      ]
    },
    {
      "cell_type": "markdown",
      "metadata": {
        "id": "CL_ta8Z3iepQ"
      },
      "source": [
        "Import library\n",
        "===="
      ]
    },
    {
      "cell_type": "code",
      "metadata": {
        "id": "AJgSHpQihRCK"
      },
      "source": [
        "from sklearn.datasets import make_moons\n",
        "from sklearn.metrics import accuracy_score\n",
        "from sklearn.model_selection import train_test_split\n",
        "from sklearn.tree import DecisionTreeClassifier\n",
        "from sklearn.ensemble import RandomForestClassifier,AdaBoostClassifier,GradientBoostingClassifier"
      ],
      "execution_count": 1,
      "outputs": []
    },
    {
      "cell_type": "markdown",
      "metadata": {
        "id": "DCHrgpSHioig"
      },
      "source": [
        "Preparing dataset\n",
        "===="
      ]
    },
    {
      "cell_type": "code",
      "metadata": {
        "id": "Mzw5Dy_shrqM"
      },
      "source": [
        "X, y = make_moons(n_samples=10000, noise=.5, random_state=0)"
      ],
      "execution_count": 2,
      "outputs": []
    },
    {
      "cell_type": "code",
      "metadata": {
        "colab": {
          "base_uri": "https://localhost:8080/"
        },
        "id": "byXswlpqhvM1",
        "outputId": "7c24a093-d020-4840-cdeb-acf33f078726"
      },
      "source": [
        "print(X.shape)\n",
        "print(y.shape)"
      ],
      "execution_count": 5,
      "outputs": [
        {
          "output_type": "stream",
          "text": [
            "(10000, 2)\n",
            "(10000,)\n"
          ],
          "name": "stdout"
        }
      ]
    },
    {
      "cell_type": "code",
      "metadata": {
        "id": "UDq_HI6KhwOK"
      },
      "source": [
        "X_train, X_test, y_train, y_test = train_test_split(X, y, test_size=0.2, random_state=42)"
      ],
      "execution_count": 6,
      "outputs": []
    },
    {
      "cell_type": "code",
      "metadata": {
        "colab": {
          "base_uri": "https://localhost:8080/"
        },
        "id": "KUhZ1Lssh7_q",
        "outputId": "0aeb8e33-2a81-4123-887b-511733639aae"
      },
      "source": [
        "print(X_train.shape)\n",
        "print(X_test.shape)"
      ],
      "execution_count": 8,
      "outputs": [
        {
          "output_type": "stream",
          "text": [
            "(8000, 2)\n",
            "(2000, 2)\n"
          ],
          "name": "stdout"
        }
      ]
    },
    {
      "cell_type": "markdown",
      "metadata": {
        "id": "e3UNwQ-uiXzZ"
      },
      "source": [
        ""
      ]
    },
    {
      "cell_type": "markdown",
      "metadata": {
        "id": "0orTqS2VisVa"
      },
      "source": [
        "Trying various models\n",
        "===="
      ]
    },
    {
      "cell_type": "markdown",
      "metadata": {
        "id": "pzEXp67Xi-B9"
      },
      "source": [
        "Decison tree\n",
        "----\n"
      ]
    },
    {
      "cell_type": "code",
      "metadata": {
        "colab": {
          "base_uri": "https://localhost:8080/"
        },
        "id": "vDpE9FSlh-5h",
        "outputId": "1f6fc5ef-e3b1-47d6-c9db-a30e5e81e526"
      },
      "source": [
        "clf = DecisionTreeClassifier()\n",
        "clf.fit(X_train, y_train)\n",
        "y_pred = clf.predict(X_test)\n",
        "accuracy_score(y_test, y_pred)"
      ],
      "execution_count": 13,
      "outputs": [
        {
          "output_type": "execute_result",
          "data": {
            "text/plain": [
              "0.754"
            ]
          },
          "metadata": {
            "tags": []
          },
          "execution_count": 13
        }
      ]
    },
    {
      "cell_type": "markdown",
      "metadata": {
        "id": "Mk4PWuQejTjL"
      },
      "source": [
        "Random Forest\n",
        "----"
      ]
    },
    {
      "cell_type": "code",
      "metadata": {
        "colab": {
          "base_uri": "https://localhost:8080/"
        },
        "id": "W3Cn8hY0iPj3",
        "outputId": "d106d2c5-b010-43a5-dfd8-dc0b1d4899f2"
      },
      "source": [
        "clf=RandomForestClassifier(n_estimators=100, max_features='auto', random_state=0)\n",
        "clf.fit(X_train, y_train)\n",
        "y_pred=clf.predict(X_test)\n",
        "accuracy_score(y_test, y_pred)"
      ],
      "execution_count": 17,
      "outputs": [
        {
          "output_type": "execute_result",
          "data": {
            "text/plain": [
              "0.7965"
            ]
          },
          "metadata": {
            "tags": []
          },
          "execution_count": 17
        }
      ]
    },
    {
      "cell_type": "markdown",
      "metadata": {
        "id": "kPlV_Oxux6xu"
      },
      "source": [
        "AdaBoost\n",
        "----\n",
        "AdaBoost learns from the mistakes by increasing the weight of misclssified data points\n",
        "\n",
        "**How AdaBoost adapts**<br>\n",
        "\n",
        "1) **Initialize the weights of data points**<br>\n",
        "initial weight of each data point = 1/X_train.shape[0]<br>\n",
        "2) Train the model (e.g. decision tree)<br>\n",
        "3) Caculate the **weighted error rate (e)** of the decision tree<br> \n",
        "4) Caculate this **decision tree's weight** in this ensemable\n",
        "the weight of this decision tree=learning rate*log((1-e)/e)<br>\n",
        "5) Update **weights of wrongly classified points**\n",
        "When model got this data point wrong: <br>\n",
        "the new weight of this point = old weight * np.exp(weight of this tree) <br>"
      ]
    },
    {
      "cell_type": "code",
      "metadata": {
        "colab": {
          "base_uri": "https://localhost:8080/"
        },
        "id": "7-oRTIX4xmNr",
        "outputId": "75a749a7-3aec-422a-b362-926734bd7656"
      },
      "source": [
        "clf=AdaBoostClassifier(n_estimators=100)\n",
        "clf.fit(X_train, y_train)\n",
        "y_pred=clf.predict(X_test)\n",
        "accuracy_score(y_test, y_pred)"
      ],
      "execution_count": 18,
      "outputs": [
        {
          "output_type": "execute_result",
          "data": {
            "text/plain": [
              "0.833"
            ]
          },
          "metadata": {
            "tags": []
          },
          "execution_count": 18
        }
      ]
    },
    {
      "cell_type": "markdown",
      "metadata": {
        "id": "rddCByrPyIc8"
      },
      "source": [
        "Gradient Boost\n",
        "----\n",
        "Gradient Boost learns from the mistake-residual error directly (save residual errors as new y)"
      ]
    },
    {
      "cell_type": "code",
      "metadata": {
        "colab": {
          "base_uri": "https://localhost:8080/"
        },
        "id": "GzRAXJiWyK-d",
        "outputId": "ac1972c6-c2fb-49e5-a389-20b3d0afda43"
      },
      "source": [
        "clf=GradientBoostingClassifier(n_estimators=100)\n",
        "clf.fit(X_train, y_train)\n",
        "y_pred=clf.predict(X_test)\n",
        "accuracy_score(y_test, y_pred)"
      ],
      "execution_count": 19,
      "outputs": [
        {
          "output_type": "execute_result",
          "data": {
            "text/plain": [
              "0.8335"
            ]
          },
          "metadata": {
            "tags": []
          },
          "execution_count": 19
        }
      ]
    }
  ]
}